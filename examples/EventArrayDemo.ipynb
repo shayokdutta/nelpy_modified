{
 "cells": [
  {
   "cell_type": "markdown",
   "metadata": {},
   "source": [
    "# Introduction to `nelpy` EventArrays"
   ]
  },
  {
   "cell_type": "markdown",
   "metadata": {},
   "source": [
    "<div class=\"alert alert-danger\">\n",
    "<b>This class has not been completed yet! Do <i>NOT</i> use!</b>\n",
    "</div>"
   ]
  },
  {
   "cell_type": "markdown",
   "metadata": {},
   "source": [
    "<div class=\"alert alert-danger\">\n",
    "<b>Sarcasm alert</b>\n",
    "</div>\n",
    "*A robust bug-free `nelpy` object* storing time or timestamps of events along with associated states.\n",
    "\n",
    "In all seriousness, assign issues of basic functionality to [Shayok](https://www.github.com/shayokdutta) and bother him as often as your heart desires until he makes unit tests for EventArray!"
   ]
  },
  {
   "cell_type": "markdown",
   "metadata": {},
   "source": [
    "<div class=\"alert alert-info\">\n",
    "<b>What is an event? </b>\n",
    "</div>\n",
    "[Google definitions defines event](https://www.google.com/search?q=define+event) as \n",
    "> A thing that happens, especially one of importance\n",
    "\n",
    "and shows that there was somewhat of a decline in the use of the word from 1900-1950s, possibly due to events going on around the world, prior to a relatively recent rise from 1975 to the current times (2017). We will have a similar definition of event in `nelpy` because who are we to oppose Google, our mighty overlords of the future. As `nelpy` is primarily to be used for neural data analysis and `EpochArray` already covers events that have long durations, e.g.:\n",
    "- epochs during which a rat is rearing \n",
    "- epochs during which rats are biting Ziying Chen's fingers \n",
    "- epochs during which rats (or the ghost that resides in our lab or both) are trying to ruin Joshua Philipe Chu's experiments \n",
    "- epochs during which rats are freezing because Sibo Gao walked into the large maze room,\n",
    "\n",
    "as opposed to things happen for an instant, our events will be defined as things that happens for particular instances associated with a particular states, <b>e.g. a rat triggers a reward well (event) may be associated with a reward state of 1 or 0 depending on whether or not the rat is rewarded.</b>\n",
    "\n",
    "<br><div class=\"alert alert-info\">\n",
    "<b>What are EventArrays used for?</b>\n",
    "</div>\n",
    "`EventArray` is primarily expected to be used as an object containing relevant information of events that transpire particular timestamps (see e.g. in above section). `EventArray` can be thought of as <b>a more generalized digital signal as states can be any value instead of just a 0 or 1 (e.g. to keep scores or counts of correct reward well triggers by your favorite rat or if your rat beat the buzzer while [playing basketball](https://youtu.be/jAQSEO25fa4)).</b> The object is in an array format so that multiple event states and timestamps can be tracked simulatneously (e.g. rat on a W, M, or E maze and you  want to track triggers on each one at particular timestamps and score whether or not these wells were triggered correctly). Lastly, as with _all_ `nelpy` objects, it is worth noting that `EventArrays` will be restricted by an underlying `EpochArray` support (see `EpochArrayDemo.ipynb` for further details)."
   ]
  },
  {
   "cell_type": "markdown",
   "metadata": {},
   "source": [
    "## Importing `nelpy`"
   ]
  },
  {
   "cell_type": "code",
   "execution_count": 1,
   "metadata": {
    "collapsed": false
   },
   "outputs": [],
   "source": [
    "import nelpy as nel #easy enough"
   ]
  },
  {
   "cell_type": "markdown",
   "metadata": {},
   "source": [
    "#### Other imports"
   ]
  },
  {
   "cell_type": "code",
   "execution_count": 2,
   "metadata": {
    "collapsed": true
   },
   "outputs": [],
   "source": [
    "#other imports\n",
    "import matplotlib as plt\n",
    "import numpy as np"
   ]
  },
  {
   "cell_type": "markdown",
   "metadata": {},
   "source": [
    "## Interacting with EventArrays"
   ]
  },
  {
   "cell_type": "markdown",
   "metadata": {},
   "source": [
    "Event arrays can be instantiated in several ways:\n",
    "- tdata (required in all cases)\n",
    "- tdata + any combination of state, support, fs, fs_acquisition, tdata_in_samples boolean flag, labels\n",
    "\n",
    "<b>Note:</b> Most of these instantiation flags or variables are very similar to other objects. See `AnalogSignalArrayDemo.ipynb` for full discussion of fs vs fs_acquisition and timestamps flag and why we chose to handle sampling rate the way we do consistently amongst `nelpy` objects."
   ]
  },
  {
   "cell_type": "markdown",
   "metadata": {},
   "source": [
    "<div class=\"alert alert-info\">\n",
    "<b>Simple Case First</b>\n",
    "</div>*Instantiate with just tdata and a label*"
   ]
  },
  {
   "cell_type": "code",
   "execution_count": 3,
   "metadata": {
    "collapsed": false
   },
   "outputs": [
    {
     "name": "stderr",
     "output_type": "stream",
     "text": [
      "/home/shayok/Documents/Code/nelpy/nelpy/core/_eventarray.py:159: UserWarning: More labels than tdata! labels are sliced to size of tdata\n",
      "/home/shayok/Documents/Code/nelpy/nelpy/core/_eventarray.py:263: UserWarning: Rethink this. EventArray repr will change!\n"
     ]
    },
    {
     "data": {
      "text/plain": [
       "<EventArray at 0x7fce29f84be0: 1 event array(s) (4 events)>"
      ]
     },
     "execution_count": 3,
     "metadata": {},
     "output_type": "execute_result"
    }
   ],
   "source": [
    "events = nel.EventArray([1,5,10,400],labels=[\"my first event array!\",1])\n",
    "events"
   ]
  },
  {
   "cell_type": "markdown",
   "metadata": {},
   "source": [
    "__Let's go through some basic accessors__"
   ]
  },
  {
   "cell_type": "markdown",
   "metadata": {},
   "source": [
    "_label_"
   ]
  },
  {
   "cell_type": "code",
   "execution_count": 4,
   "metadata": {
    "collapsed": false
   },
   "outputs": [
    {
     "data": {
      "text/plain": [
       "'my first event array!'"
      ]
     },
     "execution_count": 4,
     "metadata": {},
     "output_type": "execute_result"
    }
   ],
   "source": [
    "events.labels[0]"
   ]
  },
  {
   "cell_type": "markdown",
   "metadata": {},
   "source": [
    "*fs*"
   ]
  },
  {
   "cell_type": "code",
   "execution_count": 5,
   "metadata": {
    "collapsed": false
   },
   "outputs": [
    {
     "name": "stderr",
     "output_type": "stream",
     "text": [
      "/home/shayok/Documents/Code/nelpy/nelpy/core/_eventarray.py:13: UserWarning: No sampling frequency has been specified!\n",
      "/home/shayok/Documents/Code/nelpy/nelpy/core/_eventarray.py:349: UserWarning: No sampling rate specified\n"
     ]
    },
    {
     "data": {
      "text/plain": [
       "(None, None, 'These should both be None')"
      ]
     },
     "execution_count": 5,
     "metadata": {},
     "output_type": "execute_result"
    }
   ],
   "source": [
    "events.fs,events.fs_acquisition,\"These should both be None\""
   ]
  },
  {
   "cell_type": "markdown",
   "metadata": {},
   "source": [
    "*support*"
   ]
  },
  {
   "cell_type": "code",
   "execution_count": 6,
   "metadata": {
    "collapsed": false
   },
   "outputs": [
    {
     "data": {
      "text/plain": [
       "(<EpochArray at 0x7fce29f84c18: 1 epoch> of duration 6:39 minutes,\n",
       " 'This should be the entire time series from minimum event time to last event time')"
      ]
     },
     "execution_count": 6,
     "metadata": {},
     "output_type": "execute_result"
    }
   ],
   "source": [
    "events.support, \"This should be the entire time series from minimum event time to last event time\""
   ]
  },
  {
   "cell_type": "markdown",
   "metadata": {},
   "source": [
    "*tdata and time*"
   ]
  },
  {
   "cell_type": "code",
   "execution_count": 7,
   "metadata": {
    "collapsed": false
   },
   "outputs": [
    {
     "data": {
      "text/plain": [
       "(array([[   1.,    5.,   10.,  400.]]),\n",
       " array([[   1.,    5.,   10.,  400.]]),\n",
       " 'These should both be the same since no sampling rate')"
      ]
     },
     "execution_count": 7,
     "metadata": {},
     "output_type": "execute_result"
    }
   ],
   "source": [
    "events.tdata,events.time,\"These should both be the same since no sampling rate\""
   ]
  },
  {
   "cell_type": "markdown",
   "metadata": {},
   "source": [
    "*state*"
   ]
  },
  {
   "cell_type": "code",
   "execution_count": 8,
   "metadata": {
    "collapsed": false
   },
   "outputs": [
    {
     "data": {
      "text/plain": [
       "(array([], shape=(0, 1), dtype=float64), 'This should be empty')"
      ]
     },
     "execution_count": 8,
     "metadata": {},
     "output_type": "execute_result"
    }
   ],
   "source": [
    "events.state,\"This should be empty\""
   ]
  },
  {
   "cell_type": "markdown",
   "metadata": {},
   "source": [
    "*labels*"
   ]
  },
  {
   "cell_type": "code",
   "execution_count": 9,
   "metadata": {
    "collapsed": false,
    "scrolled": true
   },
   "outputs": [
    {
     "data": {
      "text/plain": [
       "(array(['my first event array!'], \n",
       "       dtype='<U21'), \"This should say 'my first event array!'\")"
      ]
     },
     "execution_count": 9,
     "metadata": {},
     "output_type": "execute_result"
    }
   ],
   "source": [
    "events.labels, \"This should say 'my first event array!'\""
   ]
  },
  {
   "cell_type": "markdown",
   "metadata": {},
   "source": [
    "<div class=\"alert alert-info\">\n",
    "<b> Alright, let's have fun with some of the combinations of inputs!</b></div>\n",
    "It may be worth noting that the constructor is handled similarly to `SpikeTrainArray`. I won't go in depth about the design decisions but will simply demonstrate functionality of various input cases. These examples should delineate further use cases."
   ]
  },
  {
   "cell_type": "markdown",
   "metadata": {},
   "source": [
    "<b>Various array lengths with various state lengthsJ</b>"
   ]
  },
  {
   "cell_type": "code",
   "execution_count": 9,
   "metadata": {
    "collapsed": false
   },
   "outputs": [
    {
     "ename": "ValueError",
     "evalue": "setting an array element with a sequence.",
     "output_type": "error",
     "traceback": [
      "\u001b[0;31m---------------------------------------------------------------------------\u001b[0m",
      "\u001b[0;31mValueError\u001b[0m                                Traceback (most recent call last)",
      "\u001b[0;32m<ipython-input-9-e5424a78c844>\u001b[0m in \u001b[0;36m<module>\u001b[0;34m()\u001b[0m\n\u001b[0;32m----> 1\u001b[0;31m \u001b[0mevents\u001b[0m \u001b[0;34m=\u001b[0m \u001b[0mnel\u001b[0m\u001b[0;34m.\u001b[0m\u001b[0mEventArray\u001b[0m\u001b[0;34m(\u001b[0m\u001b[0;34m[\u001b[0m\u001b[0;34m[\u001b[0m\u001b[0;36m4\u001b[0m\u001b[0;34m,\u001b[0m\u001b[0;36m5\u001b[0m\u001b[0;34m,\u001b[0m\u001b[0;36m6\u001b[0m\u001b[0;34m,\u001b[0m\u001b[0;36m10\u001b[0m\u001b[0;34m,\u001b[0m\u001b[0;36m30\u001b[0m\u001b[0;34m]\u001b[0m\u001b[0;34m,\u001b[0m\u001b[0;34m[\u001b[0m\u001b[0;36m5\u001b[0m\u001b[0;34m,\u001b[0m\u001b[0;36m24\u001b[0m\u001b[0;34m,\u001b[0m\u001b[0;36m50\u001b[0m\u001b[0;34m]\u001b[0m\u001b[0;34m]\u001b[0m\u001b[0;34m,\u001b[0m                        \u001b[0mstate\u001b[0m\u001b[0;34m=\u001b[0m\u001b[0;34m[\u001b[0m\u001b[0;34m[\u001b[0m\u001b[0;36m0\u001b[0m\u001b[0;34m,\u001b[0m\u001b[0;36m1\u001b[0m\u001b[0;34m,\u001b[0m\u001b[0;36m2\u001b[0m\u001b[0;34m,\u001b[0m\u001b[0;36m3\u001b[0m\u001b[0;34m,\u001b[0m\u001b[0;36m4\u001b[0m\u001b[0;34m]\u001b[0m\u001b[0;34m,\u001b[0m\u001b[0;34m[\u001b[0m\u001b[0;36m1\u001b[0m\u001b[0;34m,\u001b[0m\u001b[0;36m3\u001b[0m\u001b[0;34m,\u001b[0m\u001b[0;36m4\u001b[0m\u001b[0;34m]\u001b[0m\u001b[0;34m]\u001b[0m\u001b[0;34m)\u001b[0m\u001b[0;34m\u001b[0m\u001b[0m\n\u001b[0m\u001b[1;32m      2\u001b[0m \u001b[0mevents\u001b[0m\u001b[0;34m\u001b[0m\u001b[0m\n",
      "\u001b[0;32m/home/shayok/Documents/Code/nelpy/nelpy/core/_eventarray.py\u001b[0m in \u001b[0;36m__init__\u001b[0;34m(self, tdata, state, support, fs, fs_acquisition, tdata_in_samples, labels, empty)\u001b[0m\n\u001b[1;32m    141\u001b[0m         \u001b[0mnp\u001b[0m\u001b[0;34m.\u001b[0m\u001b[0mconcatenate\u001b[0m\u001b[0;34m\u001b[0m\u001b[0m\n\u001b[1;32m    142\u001b[0m         \u001b[0;31m#check if single Event or multiple events in array\u001b[0m\u001b[0;34m\u001b[0m\u001b[0;34m\u001b[0m\u001b[0m\n\u001b[0;32m--> 143\u001b[0;31m         \u001b[0mtdata\u001b[0m \u001b[0;34m=\u001b[0m \u001b[0mnp\u001b[0m\u001b[0;34m.\u001b[0m\u001b[0msqueeze\u001b[0m\u001b[0;34m(\u001b[0m\u001b[0mtdata\u001b[0m\u001b[0;34m)\u001b[0m\u001b[0;34m.\u001b[0m\u001b[0mastype\u001b[0m\u001b[0;34m(\u001b[0m\u001b[0mfloat\u001b[0m\u001b[0;34m)\u001b[0m\u001b[0;34m\u001b[0m\u001b[0m\n\u001b[0m\u001b[1;32m    144\u001b[0m         \u001b[0;32mtry\u001b[0m\u001b[0;34m:\u001b[0m\u001b[0;34m\u001b[0m\u001b[0m\n\u001b[1;32m    145\u001b[0m             \u001b[0;32mif\u001b[0m \u001b[0mtdata\u001b[0m\u001b[0;34m.\u001b[0m\u001b[0mshape\u001b[0m\u001b[0;34m[\u001b[0m\u001b[0;36m0\u001b[0m\u001b[0;34m]\u001b[0m \u001b[0;34m==\u001b[0m \u001b[0mtdata\u001b[0m\u001b[0;34m.\u001b[0m\u001b[0msize\u001b[0m\u001b[0;34m:\u001b[0m\u001b[0;34m\u001b[0m\u001b[0m\n",
      "\u001b[0;31mValueError\u001b[0m: setting an array element with a sequence."
     ]
    }
   ],
   "source": [
    "events = nel.EventArray([[4,5,6,10,30],[5,24,50]],\\\n",
    "                        state=[[0,1,2,3,4],[1,3,4]])\n",
    "events"
   ]
  },
  {
   "cell_type": "markdown",
   "metadata": {},
   "source": [
    "__Sampling Rates and Times__"
   ]
  },
  {
   "cell_type": "markdown",
   "metadata": {},
   "source": [
    "*Just fs*"
   ]
  },
  {
   "cell_type": "code",
   "execution_count": null,
   "metadata": {
    "collapsed": true
   },
   "outputs": [],
   "source": []
  },
  {
   "cell_type": "markdown",
   "metadata": {},
   "source": [
    "*Passing in time and fs*<br>\n",
    "The design decision here is that there will be a flag if you are passing in time along with sampling rate. This is more important when discussing `AnalogSignalArray` than `EventArray`. "
   ]
  },
  {
   "cell_type": "code",
   "execution_count": null,
   "metadata": {
    "collapsed": true
   },
   "outputs": [],
   "source": []
  },
  {
   "cell_type": "markdown",
   "metadata": {},
   "source": [
    "*Using fs_acquisition*"
   ]
  },
  {
   "cell_type": "code",
   "execution_count": null,
   "metadata": {
    "collapsed": true
   },
   "outputs": [],
   "source": []
  },
  {
   "cell_type": "markdown",
   "metadata": {},
   "source": [
    "<div class=\"alert alert-info\">\n",
    "<b>Splicing & Subset</b>"
   ]
  },
  {
   "cell_type": "markdown",
   "metadata": {},
   "source": [
    "Splicing is supported with EpochArrays as well as time chunks"
   ]
  },
  {
   "cell_type": "markdown",
   "metadata": {},
   "source": [
    "*EpochArray*"
   ]
  },
  {
   "cell_type": "code",
   "execution_count": null,
   "metadata": {
    "collapsed": true
   },
   "outputs": [],
   "source": []
  },
  {
   "cell_type": "markdown",
   "metadata": {},
   "source": [
    "*Time Chunks*"
   ]
  },
  {
   "cell_type": "code",
   "execution_count": null,
   "metadata": {
    "collapsed": true
   },
   "outputs": [],
   "source": []
  },
  {
   "cell_type": "markdown",
   "metadata": {},
   "source": [
    "Subset functionality to get a particular EventArray instead of all events"
   ]
  },
  {
   "cell_type": "code",
   "execution_count": null,
   "metadata": {
    "collapsed": true
   },
   "outputs": [],
   "source": []
  },
  {
   "cell_type": "markdown",
   "metadata": {},
   "source": [
    "<div class=\"alert alert-info\">\n",
    "<b>Add Events</b>\n",
    "</div>"
   ]
  },
  {
   "cell_type": "code",
   "execution_count": null,
   "metadata": {
    "collapsed": true
   },
   "outputs": [],
   "source": []
  },
  {
   "cell_type": "markdown",
   "metadata": {},
   "source": [
    "<div class=\"alert alert-info\">\n",
    "<b>Flatten</b>\n",
    "</div>"
   ]
  },
  {
   "cell_type": "code",
   "execution_count": null,
   "metadata": {
    "collapsed": true
   },
   "outputs": [],
   "source": []
  }
 ],
 "metadata": {
  "anaconda-cloud": {},
  "kernelspec": {
   "display_name": "Python [Root]",
   "language": "python",
   "name": "Python [Root]"
  },
  "language_info": {
   "codemirror_mode": {
    "name": "ipython",
    "version": 3
   },
   "file_extension": ".py",
   "mimetype": "text/x-python",
   "name": "python",
   "nbconvert_exporter": "python",
   "pygments_lexer": "ipython3",
   "version": "3.5.2"
  }
 },
 "nbformat": 4,
 "nbformat_minor": 0
}
