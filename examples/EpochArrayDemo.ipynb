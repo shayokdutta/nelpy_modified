{
 "cells": [
  {
   "cell_type": "markdown",
   "metadata": {},
   "source": [
    "# Introduction to `nelpy` EpochArrays"
   ]
  },
  {
   "cell_type": "markdown",
   "metadata": {},
   "source": [
    "In `nelpy`, all the core data objects (`EpochArray`, `AnalogSignalArray`, `SpiketrainArray`, `BinnedSpiketrainArray`, ...) have an associated and underlying `EpochArray`, including `EpochArray` itself (more on this later).\n",
    "\n",
    "#### What is an Epoch?\n",
    "An Epoch is simply a time interval. More spcifically, epochs in `nelpy` are half open intervals $I=[a, b)$ measured in seconds. The `EpochArray` object then defines a collection of epochs, along with common operations and transformations that can be performed on them.\n",
    "\n",
    "#### What are EpochArrays used for?\n",
    "`EpochArray`s are fundamental to nelpy, because they define when data is defined. For example, if we record action potentials (or spikes) from a single neuron, and observe spikes at times\n",
    "$$\\text{spike_times} = 1,3,4,5, 9, 18 \\quad \\text{(seconds)}$$\n",
    "then in order to compute even the simplest estimates such as average firing rate, we need to know _how long did we record for_? If we had observed the above spike times over a period of 1 minute, for example, the firing rate estimate would be 6 spikes / 60 seconds = 0.1 Hz. However, if we observed the neuron only for $I=[0,20)$ then the etimate of the firing rate would be 6 spikes / 20 seconds = 0.3 Hz instead. This is where `EpochArrays` come in handy, in that they define **when the observed data is valid**.\n",
    "\n",
    "Another use case for `EpochArrays` is to easily extract subsets of data for further analysis. For example, if we have LFP (local field potential) data on $I_{LFP}=[0,60)$, and we have animal run speed estimates on $I_{speed} = [3,27)$, and we are interested in calculating the average LFP _only during periods when the animal was running faster than some threshold_, then we can easily determine those epochs within $I_{speed}$ that satisfies our criteria and store them in a single `EpochArray`, and then we can directly index LFP with this new `EpochArray` to return the restricted subset of LFP data. \n",
    "\n",
    "**Disclaimer:** We really need a few more objects to make the above example clear and convincing, but conceptually at least this type of operation is very common, and is made almost trivial with the use of `EpochArrays`.\n",
    "\n",
    "#### Support vs domain\n",
    "While technically a mathematical \"support\" of a function refers to the region on its domain where the function is non-zero, we use the term a little more loosely here, in that a `nelpy` object's support is the region where the object (data) is defined. However, a related concept is that of its _domain_, which specifies where the object (data) _could be defined_. By default, all objects have a domain of $\\Omega = (-\\infty, \\infty)$. The domain is necessary when talking about complements, so that in the default domain, the complement of $[a, b)$ is $(-\\infty, a) \\cup [b, \\infty)$.\n"
   ]
  },
  {
   "cell_type": "markdown",
   "metadata": {},
   "source": [
    "### Some set-theoretic operations supported by EpochArrays\n",
    "\n",
    "Recall that the default domain for any `nelpy` object is $\\Omega = (-\\infty, \\infty)$. Several set-theoretic operations are available in `nelpy`, namely:\n",
    " * Set difference: $$A - B := \\{x \\in \\Omega : x\\in A, x \\notin B\\}$$ `nelpy: A - B`\n",
    " * Set intersection $$A \\cap B := \\{x \\in \\Omega : x\\in A, x\\in B\\}$$ `nelpy: A & B` or `A[B]`\n",
    " * Set union $$A \\cup B := \\{x \\in \\Omega : x\\in A \\text{ or } x\\in B\\}$$ `nelpy: A | B`\n",
    " * Set complement $$A^{\\text{c}} := \\{x \\in \\Omega : x \\notin A\\}$$ `nelpy: ~A`\n",
    " * Set merger $$\\text{merge}(A) := \\{x \\in \\Omega : x \\in A\\}$$ `nelpy: A.merge()`\n",
    " * Set addition $$A + B := \\{\\omega : \\omega \\in A \\text{ or } \\omega \\in B \\}$$ `nelpy: A + B`\n",
    "\n",
    "where $\\{x\\}$ are samples, and $\\{\\omega\\}$ are epochs."
   ]
  },
  {
   "cell_type": "markdown",
   "metadata": {},
   "source": [
    "### Importing nelpy"
   ]
  },
  {
   "cell_type": "code",
   "execution_count": 1,
   "metadata": {
    "collapsed": true
   },
   "outputs": [],
   "source": [
    "import nelpy as nel"
   ]
  },
  {
   "cell_type": "markdown",
   "metadata": {},
   "source": [
    "### Interacting with EpochArrays\n",
    "\n",
    "Frequently, `EpochArrays` will underlie other `nelpy` objects, and you won't need to worry about interacting with them too much. However, there are cases where direct manipulation and / or interaction can be very useful.\n",
    "\n",
    "First of all, all `nelpy` objects have human-readable `__repr__` methods that make it convenient to get a quick summary (and insight) of the data object. Let's take a closer look.\n",
    "\n",
    "We start by creating an `EpochArray` containing three disjoint intervals, namely $[0,3) \\cup [5,6) \\cup [10,15)$:"
   ]
  },
  {
   "cell_type": "code",
   "execution_count": 2,
   "metadata": {
    "collapsed": false
   },
   "outputs": [],
   "source": [
    "ep = nel.EpochArray([[0,3], [5,6], [10,15]])"
   ]
  },
  {
   "cell_type": "markdown",
   "metadata": {},
   "source": [
    "which we can look at either by calling `print()` on the `EpochArray` object, or by evaluating `ep` in the REPL."
   ]
  },
  {
   "cell_type": "code",
   "execution_count": 3,
   "metadata": {
    "collapsed": false
   },
   "outputs": [
    {
     "name": "stdout",
     "output_type": "stream",
     "text": [
      "<EpochArray at 0x2e3cd7b4048: 3 epochs> of duration 9 seconds\n"
     ]
    }
   ],
   "source": [
    "print(ep)"
   ]
  },
  {
   "cell_type": "markdown",
   "metadata": {},
   "source": [
    "Here we can see that we received immediate feedback, namely that there are 3 epochs inside the `EpochArray`, and that the total duration of those epochs is 9 seconds.\n",
    "\n",
    "Nelpy makes it easy to read durations of various magnitudes, and would print \"1:20 minutes\" for a duration of 80 seconds, and \"2:13:20 hours\" for a duration of 8000 seconds, for example.\n",
    "\n",
    "#TODO: add examples of operators, union, intersection, iteration, slicing, indexing, class attributes, plotting, ..."
   ]
  },
  {
   "cell_type": "markdown",
   "metadata": {},
   "source": [
    "### Now we add interactive widgets to explore transformations of EpochArrays"
   ]
  },
  {
   "cell_type": "code",
   "execution_count": 4,
   "metadata": {
    "collapsed": false
   },
   "outputs": [],
   "source": [
    "import matplotlib.pyplot as plt\n",
    "import numpy as np\n",
    "import ipywidgets as widgets\n",
    "import warnings\n",
    "\n",
    "import nelpy.plotting as npl\n",
    "\n",
    "from ipywidgets import interact, interactive, fixed, interact_manual\n",
    "\n",
    "%matplotlib inline\n",
    "\n",
    "warnings.filterwarnings(\"ignore\")"
   ]
  },
  {
   "cell_type": "code",
   "execution_count": 5,
   "metadata": {
    "collapsed": false
   },
   "outputs": [],
   "source": [
    "times = np.array([[1.0, 3.0],\n",
    "                  [4.0, 8.0],\n",
    "                  [12.0, 13.0],\n",
    "                  [20.0, 25.0],\n",
    "                  [1.0, 5.0],\n",
    "                  [6.0, 7.0],\n",
    "                  [15.0, 18.0],\n",
    "                  [30.0, 35.0]])\n",
    "ep1 = nel.EpochArray(times, fs=1, domain=nel.EpochArray([0, 50], fs=1))"
   ]
  },
  {
   "cell_type": "code",
   "execution_count": 7,
   "metadata": {
    "collapsed": false
   },
   "outputs": [
    {
     "data": {
      "text/plain": [
       "array([[  3.,   5.],\n",
       "       [  6.,   8.],\n",
       "       [ 15.,  18.],\n",
       "       [ 20.,  25.],\n",
       "       [ 30.,  35.]])"
      ]
     },
     "execution_count": 7,
     "metadata": {},
     "output_type": "execute_result"
    }
   ],
   "source": [
    "(ep1 - ep).time"
   ]
  },
  {
   "cell_type": "code",
   "execution_count": 6,
   "metadata": {
    "collapsed": false
   },
   "outputs": [
    {
     "data": {
      "text/plain": [
       "<EpochArray at 0x7f9b513e3438: 1 epoch> of duration 50 seconds"
      ]
     },
     "execution_count": 6,
     "metadata": {},
     "output_type": "execute_result"
    }
   ],
   "source": [
    "(ep1 + 5).domain"
   ]
  },
  {
   "cell_type": "code",
   "execution_count": 8,
   "metadata": {
    "collapsed": false
   },
   "outputs": [],
   "source": [
    "def epplt(epoch, expand=0, rshift=0, lshift=0, merge=False, complement=False):\n",
    "    fig = plt.figure(figsize=(16,1))\n",
    "    ax = fig.add_subplot(111)\n",
    "    \n",
    "    epoch = epoch + expand\n",
    "    epoch = epoch >> rshift\n",
    "    epoch = epoch << lshift\n",
    "    if merge:\n",
    "        epoch = epoch.merge()\n",
    "    if complement:\n",
    "        epoch = ~epoch\n",
    "    ax = npl.epochplot(epoch)\n",
    "    ax.set_xlim(epoch.domain.start, epoch.domain.stop)\n",
    "    npl.utils.clear_left_right(ax)\n",
    "    npl.utils.clear_top(ax)"
   ]
  },
  {
   "cell_type": "code",
   "execution_count": 9,
   "metadata": {
    "collapsed": false
   },
   "outputs": [
    {
     "data": {
      "image/png": "[encoded data removed]",
      "text/plain": [
       "<matplotlib.figure.Figure at 0x7f9b4e7c7a90>"
      ]
     },
     "metadata": {},
     "output_type": "display_data"
    }
   ],
   "source": [
    "interact(epplt, epoch=fixed(ep1), expand=(-0.5,2.5,0.1), rshift=(0,12.5,0.5), lshift=(0,12,0.5), merge=False, complement=False);"
   ]
  },
  {
   "cell_type": "code",
   "execution_count": 9,
   "metadata": {
    "collapsed": false
   },
   "outputs": [
    {
     "data": {
      "text/plain": [
       "array([[  1.,   3.],\n",
       "       [  1.,   5.],\n",
       "       [  4.,   8.],\n",
       "       [  6.,   7.],\n",
       "       [ 12.,  13.],\n",
       "       [ 15.,  18.],\n",
       "       [ 20.,  25.],\n",
       "       [ 30.,  35.]])"
      ]
     },
     "execution_count": 9,
     "metadata": {},
     "output_type": "execute_result"
    }
   ],
   "source": [
    "ep1.time"
   ]
  },
  {
   "cell_type": "code",
   "execution_count": 13,
   "metadata": {
    "collapsed": false
   },
   "outputs": [
    {
     "data": {
      "text/plain": [
       "array([[ -1.,   5.],\n",
       "       [ -1.,   7.],\n",
       "       [  2.,  10.],\n",
       "       [  4.,   9.],\n",
       "       [ 10.,  15.],\n",
       "       [ 13.,  20.],\n",
       "       [ 18.,  27.],\n",
       "       [ 28.,  37.]])"
      ]
     },
     "execution_count": 13,
     "metadata": {},
     "output_type": "execute_result"
    }
   ],
   "source": [
    "(ep1 + 2).time"
   ]
  },
  {
   "cell_type": "markdown",
   "metadata": {},
   "source": [
    "Recall that the default domain for any `nelpy` object is $\\Omega = (-\\infty, \\infty)$. Several set-theoretic operations are available in `nelpy`, namely:\n",
    " * Set difference: $$A - B := \\{x \\in \\Omega : x\\in A, x \\notin B\\}$$ `nelpy: A - B`\n",
    " * Set intersection $$A \\cap B := \\{x \\in \\Omega : x\\in A, x\\in B\\}$$ `nelpy: A & B` or `A[B]`\n",
    " * Set union $$A \\cup B := \\{x \\in \\Omega : x\\in A \\text{ or } x\\in B\\}$$ `nelpy: A | B`\n",
    " * Set complement $$A^{\\text{c}} := \\{x \\in \\Omega : x \\notin A\\}$$ `nelpy: ~A`\n",
    " * Set merger $$\\text{merge}(A) := \\{x \\in \\Omega : x \\in A\\}$$ `nelpy: A.merge()`\n",
    " * Set addition $$A + B := \\{\\omega : \\omega \\in A \\text{ or } \\omega \\in B \\}$$ `nelpy: A + B`\n",
    "\n",
    "where $\\{x\\}$ are samples, and $\\{\\omega\\}$ are epochs."
   ]
  }
 ],
 "metadata": {
  "anaconda-cloud": {},
  "kernelspec": {
   "display_name": "Python [Root]",
   "language": "python",
   "name": "Python [Root]"
  },
  "language_info": {
   "codemirror_mode": {
    "name": "ipython",
    "version": 3
   },
   "file_extension": ".py",
   "mimetype": "text/x-python",
   "name": "python",
   "nbconvert_exporter": "python",
   "pygments_lexer": "ipython3",
   "version": "3.5.2"
  }
 },
 "nbformat": 4,
 "nbformat_minor": 1
}